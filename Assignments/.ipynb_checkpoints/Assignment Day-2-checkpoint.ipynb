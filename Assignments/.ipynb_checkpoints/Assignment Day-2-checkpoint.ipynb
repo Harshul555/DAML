{
 "cells": [
  {
   "cell_type": "markdown",
   "metadata": {},
   "source": [
    "__1. Write a program to print all prime number in between 100 to 300__"
   ]
  },
  {
   "cell_type": "code",
   "execution_count": 22,
   "metadata": {},
   "outputs": [
    {
     "name": "stdout",
     "output_type": "stream",
     "text": [
      "Prime number between 100 and 300 : 101 103 107 109 113 121 127 131 137 139 143 149 151 157 163 167 169 173 179 181 191 193 197 199 211 223 227 229 233 239 241 251 257 263 269 271 277 281 283 289 293 \n"
     ]
    }
   ],
   "source": [
    "print(\"Prime number between 100 and 300 : \",end=\"\")\n",
    "for i in range(100,300):\n",
    "    for j in range(2,int(i**0.5)):\n",
    "        if (i%j==0):\n",
    "            break\n",
    "    else:\n",
    "        print(i,end=\" \")\n",
    "print()"
   ]
  },
  {
   "cell_type": "markdown",
   "metadata": {},
   "source": [
    "__2. Write a program to find a given number is Armstrong number or not__"
   ]
  },
  {
   "cell_type": "code",
   "execution_count": 16,
   "metadata": {},
   "outputs": [
    {
     "name": "stdout",
     "output_type": "stream",
     "text": [
      "Enter the number: 153\n",
      "153\n"
     ]
    },
    {
     "data": {
      "text/plain": [
       "'It is an armstrong number'"
      ]
     },
     "execution_count": 16,
     "metadata": {},
     "output_type": "execute_result"
    }
   ],
   "source": [
    "def arms(a):\n",
    "    n=0\n",
    "    b=list(a)\n",
    "    for i in b:\n",
    "        n+=int(i)**3\n",
    "    if n==int(a):\n",
    "        return \"It is an armstrong number\"\n",
    "    else:\n",
    "        return \"It is not an armstrong number\"\n",
    "arms(input(\"Enter the number: \"))"
   ]
  },
  {
   "cell_type": "code",
   "execution_count": null,
   "metadata": {},
   "outputs": [],
   "source": []
  }
 ],
 "metadata": {
  "kernelspec": {
   "display_name": "Python 3",
   "language": "python",
   "name": "python3"
  },
  "language_info": {
   "codemirror_mode": {
    "name": "ipython",
    "version": 3
   },
   "file_extension": ".py",
   "mimetype": "text/x-python",
   "name": "python",
   "nbconvert_exporter": "python",
   "pygments_lexer": "ipython3",
   "version": "3.7.4"
  }
 },
 "nbformat": 4,
 "nbformat_minor": 4
}
